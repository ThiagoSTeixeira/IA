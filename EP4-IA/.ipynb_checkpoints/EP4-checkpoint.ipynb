{
 "cells": [
  {
   "cell_type": "markdown",
   "metadata": {},
   "source": [
    "# EP4 - Inteligência Artificial\n",
    "#### Thiago Santos Teixeira nUSP-10736987"
   ]
  },
  {
   "cell_type": "markdown",
   "metadata": {},
   "source": [
    "### Processamento de dados: Fleury"
   ]
  },
  {
   "cell_type": "code",
   "execution_count": 79,
   "metadata": {},
   "outputs": [
    {
     "data": {
      "text/plain": [
       "(129596, 7)"
      ]
     },
     "execution_count": 79,
     "metadata": {},
     "output_type": "execute_result"
    }
   ],
   "source": [
    "import pandas as pd\n",
    "pacientes = pd.read_csv('./dados/Grupo_Fleury_Dataset_Covid19_Pacientes.csv', sep = '|')\n",
    "pacientes.shape"
   ]
  },
  {
   "cell_type": "code",
   "execution_count": 80,
   "metadata": {},
   "outputs": [
    {
     "data": {
      "text/html": [
       "<div>\n",
       "<style scoped>\n",
       "    .dataframe tbody tr th:only-of-type {\n",
       "        vertical-align: middle;\n",
       "    }\n",
       "\n",
       "    .dataframe tbody tr th {\n",
       "        vertical-align: top;\n",
       "    }\n",
       "\n",
       "    .dataframe thead th {\n",
       "        text-align: right;\n",
       "    }\n",
       "</style>\n",
       "<table border=\"1\" class=\"dataframe\">\n",
       "  <thead>\n",
       "    <tr style=\"text-align: right;\">\n",
       "      <th></th>\n",
       "      <th>ID_PACIENTE</th>\n",
       "      <th>IC_SEXO</th>\n",
       "      <th>AA_NASCIMENTO</th>\n",
       "      <th>CD_PAIS</th>\n",
       "      <th>CD_UF</th>\n",
       "      <th>CD_MUNICIPIO</th>\n",
       "      <th>CD_CEP</th>\n",
       "    </tr>\n",
       "  </thead>\n",
       "  <tbody>\n",
       "    <tr>\n",
       "      <th>0</th>\n",
       "      <td>1AD07C7A1E4D80B608DD7A650766CCF0</td>\n",
       "      <td>M</td>\n",
       "      <td>1961</td>\n",
       "      <td>Brasil</td>\n",
       "      <td>SP</td>\n",
       "      <td>SAO PAULO</td>\n",
       "      <td>CCCC</td>\n",
       "    </tr>\n",
       "    <tr>\n",
       "      <th>1</th>\n",
       "      <td>7B10786D64F27D7732503D915A38DE6F</td>\n",
       "      <td>M</td>\n",
       "      <td>1945</td>\n",
       "      <td>Brasil</td>\n",
       "      <td>SP</td>\n",
       "      <td>SAO PAULO</td>\n",
       "      <td>CCCC</td>\n",
       "    </tr>\n",
       "    <tr>\n",
       "      <th>2</th>\n",
       "      <td>83C018729869BB1BAB8819021D8E048E</td>\n",
       "      <td>F</td>\n",
       "      <td>1973</td>\n",
       "      <td>Brasil</td>\n",
       "      <td>SP</td>\n",
       "      <td>SAO PAULO</td>\n",
       "      <td>CCCC</td>\n",
       "    </tr>\n",
       "    <tr>\n",
       "      <th>3</th>\n",
       "      <td>74F422BB575BF224F676EE88DD77301F</td>\n",
       "      <td>M</td>\n",
       "      <td>2000</td>\n",
       "      <td>Brasil</td>\n",
       "      <td>SP</td>\n",
       "      <td>SAO PAULO</td>\n",
       "      <td>CCCC</td>\n",
       "    </tr>\n",
       "    <tr>\n",
       "      <th>4</th>\n",
       "      <td>3EDBAA8DBC42EE7F1CBBE2482B8CE42D</td>\n",
       "      <td>M</td>\n",
       "      <td>1972</td>\n",
       "      <td>Brasil</td>\n",
       "      <td>SP</td>\n",
       "      <td>SAO PAULO</td>\n",
       "      <td>CCCC</td>\n",
       "    </tr>\n",
       "  </tbody>\n",
       "</table>\n",
       "</div>"
      ],
      "text/plain": [
       "                        ID_PACIENTE IC_SEXO AA_NASCIMENTO CD_PAIS CD_UF  \\\n",
       "0  1AD07C7A1E4D80B608DD7A650766CCF0       M          1961  Brasil    SP   \n",
       "1  7B10786D64F27D7732503D915A38DE6F       M          1945  Brasil    SP   \n",
       "2  83C018729869BB1BAB8819021D8E048E       F          1973  Brasil    SP   \n",
       "3  74F422BB575BF224F676EE88DD77301F       M          2000  Brasil    SP   \n",
       "4  3EDBAA8DBC42EE7F1CBBE2482B8CE42D       M          1972  Brasil    SP   \n",
       "\n",
       "  CD_MUNICIPIO CD_CEP  \n",
       "0    SAO PAULO   CCCC  \n",
       "1    SAO PAULO   CCCC  \n",
       "2    SAO PAULO   CCCC  \n",
       "3    SAO PAULO   CCCC  \n",
       "4    SAO PAULO   CCCC  "
      ]
     },
     "execution_count": 80,
     "metadata": {},
     "output_type": "execute_result"
    }
   ],
   "source": [
    "#Passo 1: Removendo eventuais duplicatas:\n",
    "pacientes.drop_duplicates(keep = False)\n",
    "pacientes.head()"
   ]
  },
  {
   "cell_type": "code",
   "execution_count": 81,
   "metadata": {},
   "outputs": [
    {
     "data": {
      "text/html": [
       "<div>\n",
       "<style scoped>\n",
       "    .dataframe tbody tr th:only-of-type {\n",
       "        vertical-align: middle;\n",
       "    }\n",
       "\n",
       "    .dataframe tbody tr th {\n",
       "        vertical-align: top;\n",
       "    }\n",
       "\n",
       "    .dataframe thead th {\n",
       "        text-align: right;\n",
       "    }\n",
       "</style>\n",
       "<table border=\"1\" class=\"dataframe\">\n",
       "  <thead>\n",
       "    <tr style=\"text-align: right;\">\n",
       "      <th></th>\n",
       "      <th>ID_PACIENTE</th>\n",
       "      <th>IC_SEXO</th>\n",
       "      <th>AA_NASCIMENTO</th>\n",
       "      <th>CD_PAIS</th>\n",
       "    </tr>\n",
       "  </thead>\n",
       "  <tbody>\n",
       "    <tr>\n",
       "      <th>0</th>\n",
       "      <td>1AD07C7A1E4D80B608DD7A650766CCF0</td>\n",
       "      <td>M</td>\n",
       "      <td>1961</td>\n",
       "      <td>Brasil</td>\n",
       "    </tr>\n",
       "    <tr>\n",
       "      <th>1</th>\n",
       "      <td>7B10786D64F27D7732503D915A38DE6F</td>\n",
       "      <td>M</td>\n",
       "      <td>1945</td>\n",
       "      <td>Brasil</td>\n",
       "    </tr>\n",
       "    <tr>\n",
       "      <th>2</th>\n",
       "      <td>83C018729869BB1BAB8819021D8E048E</td>\n",
       "      <td>F</td>\n",
       "      <td>1973</td>\n",
       "      <td>Brasil</td>\n",
       "    </tr>\n",
       "    <tr>\n",
       "      <th>3</th>\n",
       "      <td>74F422BB575BF224F676EE88DD77301F</td>\n",
       "      <td>M</td>\n",
       "      <td>2000</td>\n",
       "      <td>Brasil</td>\n",
       "    </tr>\n",
       "    <tr>\n",
       "      <th>4</th>\n",
       "      <td>3EDBAA8DBC42EE7F1CBBE2482B8CE42D</td>\n",
       "      <td>M</td>\n",
       "      <td>1972</td>\n",
       "      <td>Brasil</td>\n",
       "    </tr>\n",
       "  </tbody>\n",
       "</table>\n",
       "</div>"
      ],
      "text/plain": [
       "                        ID_PACIENTE IC_SEXO AA_NASCIMENTO CD_PAIS\n",
       "0  1AD07C7A1E4D80B608DD7A650766CCF0       M          1961  Brasil\n",
       "1  7B10786D64F27D7732503D915A38DE6F       M          1945  Brasil\n",
       "2  83C018729869BB1BAB8819021D8E048E       F          1973  Brasil\n",
       "3  74F422BB575BF224F676EE88DD77301F       M          2000  Brasil\n",
       "4  3EDBAA8DBC42EE7F1CBBE2482B8CE42D       M          1972  Brasil"
      ]
     },
     "execution_count": 81,
     "metadata": {},
     "output_type": "execute_result"
    }
   ],
   "source": [
    "#Podemos notar que o dataset possue colunas inúteis ao nosso projeto, \n",
    "#como por exemplo a UF e o CEP, portanto, cortaremos elas.\n",
    "pacientes = pacientes.drop(\"CD_UF\", axis=1)\n",
    "pacientes = pacientes.drop(\"CD_CEP\", axis=1)\n",
    "pacientes = pacientes.drop(\"CD_MUNICIPIO\", axis =1)\n",
    "pacientes.head()"
   ]
  },
  {
   "cell_type": "code",
   "execution_count": 82,
   "metadata": {},
   "outputs": [],
   "source": [
    "#Para facilitar nossa implementação, trocaremos o valor do sexo do paciente de M e F para 0 e 1 respectivamente\n",
    "pacientes['IC_SEXO'] = pacientes['IC_SEXO'].map( {'M': 0, 'F': 1} ).astype(int)"
   ]
  },
  {
   "cell_type": "markdown",
   "metadata": {},
   "source": [
    "É possível perceber também que os valores contidos em \"cd_pais\" aparentam ser, em grande maioria, Brasil, portanto, checaremos quais alteracoes podemos ter nessa coluna:"
   ]
  },
  {
   "cell_type": "code",
   "execution_count": 83,
   "metadata": {},
   "outputs": [
    {
     "data": {
      "text/plain": [
       "array(['Brasil'], dtype=object)"
      ]
     },
     "execution_count": 83,
     "metadata": {},
     "output_type": "execute_result"
    }
   ],
   "source": [
    "pacientes['CD_PAIS'].unique() #devolvera todos os valores unicos da coluna"
   ]
  },
  {
   "cell_type": "code",
   "execution_count": 84,
   "metadata": {},
   "outputs": [
    {
     "data": {
      "text/html": [
       "<div>\n",
       "<style scoped>\n",
       "    .dataframe tbody tr th:only-of-type {\n",
       "        vertical-align: middle;\n",
       "    }\n",
       "\n",
       "    .dataframe tbody tr th {\n",
       "        vertical-align: top;\n",
       "    }\n",
       "\n",
       "    .dataframe thead th {\n",
       "        text-align: right;\n",
       "    }\n",
       "</style>\n",
       "<table border=\"1\" class=\"dataframe\">\n",
       "  <thead>\n",
       "    <tr style=\"text-align: right;\">\n",
       "      <th></th>\n",
       "      <th>ID_PACIENTE</th>\n",
       "      <th>IC_SEXO</th>\n",
       "      <th>AA_NASCIMENTO</th>\n",
       "    </tr>\n",
       "  </thead>\n",
       "  <tbody>\n",
       "    <tr>\n",
       "      <th>0</th>\n",
       "      <td>1AD07C7A1E4D80B608DD7A650766CCF0</td>\n",
       "      <td>0</td>\n",
       "      <td>1961</td>\n",
       "    </tr>\n",
       "    <tr>\n",
       "      <th>1</th>\n",
       "      <td>7B10786D64F27D7732503D915A38DE6F</td>\n",
       "      <td>0</td>\n",
       "      <td>1945</td>\n",
       "    </tr>\n",
       "    <tr>\n",
       "      <th>2</th>\n",
       "      <td>83C018729869BB1BAB8819021D8E048E</td>\n",
       "      <td>1</td>\n",
       "      <td>1973</td>\n",
       "    </tr>\n",
       "    <tr>\n",
       "      <th>3</th>\n",
       "      <td>74F422BB575BF224F676EE88DD77301F</td>\n",
       "      <td>0</td>\n",
       "      <td>2000</td>\n",
       "    </tr>\n",
       "    <tr>\n",
       "      <th>4</th>\n",
       "      <td>3EDBAA8DBC42EE7F1CBBE2482B8CE42D</td>\n",
       "      <td>0</td>\n",
       "      <td>1972</td>\n",
       "    </tr>\n",
       "  </tbody>\n",
       "</table>\n",
       "</div>"
      ],
      "text/plain": [
       "                        ID_PACIENTE  IC_SEXO AA_NASCIMENTO\n",
       "0  1AD07C7A1E4D80B608DD7A650766CCF0        0          1961\n",
       "1  7B10786D64F27D7732503D915A38DE6F        0          1945\n",
       "2  83C018729869BB1BAB8819021D8E048E        1          1973\n",
       "3  74F422BB575BF224F676EE88DD77301F        0          2000\n",
       "4  3EDBAA8DBC42EE7F1CBBE2482B8CE42D        0          1972"
      ]
     },
     "execution_count": 84,
     "metadata": {},
     "output_type": "execute_result"
    }
   ],
   "source": [
    "#Com a resposta da célula acima, podemos ter certeza de que só há um valor nessa coluna,\n",
    "#e portanto ela também é descartável.\n",
    "pacientes = pacientes.drop(\"CD_PAIS\", axis = 1)\n",
    "pacientes.head()"
   ]
  },
  {
   "cell_type": "code",
   "execution_count": 85,
   "metadata": {},
   "outputs": [
    {
     "data": {
      "text/plain": [
       "(129596, 3)"
      ]
     },
     "execution_count": 85,
     "metadata": {},
     "output_type": "execute_result"
    }
   ],
   "source": [
    "pacientes.shape"
   ]
  },
  {
   "cell_type": "markdown",
   "metadata": {},
   "source": [
    "Ah! Agora temos uma base de dados bem mais limpa e simples! Porém, ainda nos deparamos com um problema: algumas datas de nacimento estão com o valor \"AAAA\", ou seja, dados faltantes. Porém, como temos uma base de dados bastante extensa ainda (quase 130k linhas segundo a célula acima), podemos nos dar o luxo de eliminar pacientes sem DOB do dataset :)"
   ]
  },
  {
   "cell_type": "code",
   "execution_count": 86,
   "metadata": {},
   "outputs": [],
   "source": [
    "pacientes = pacientes[pacientes.AA_NASCIMENTO != \"AAAA\"]"
   ]
  },
  {
   "cell_type": "code",
   "execution_count": 87,
   "metadata": {},
   "outputs": [
    {
     "data": {
      "text/html": [
       "<div>\n",
       "<style scoped>\n",
       "    .dataframe tbody tr th:only-of-type {\n",
       "        vertical-align: middle;\n",
       "    }\n",
       "\n",
       "    .dataframe tbody tr th {\n",
       "        vertical-align: top;\n",
       "    }\n",
       "\n",
       "    .dataframe thead th {\n",
       "        text-align: right;\n",
       "    }\n",
       "</style>\n",
       "<table border=\"1\" class=\"dataframe\">\n",
       "  <thead>\n",
       "    <tr style=\"text-align: right;\">\n",
       "      <th></th>\n",
       "      <th>ID_PACIENTE</th>\n",
       "      <th>IC_SEXO</th>\n",
       "      <th>AA_NASCIMENTO</th>\n",
       "    </tr>\n",
       "  </thead>\n",
       "  <tbody>\n",
       "    <tr>\n",
       "      <th>0</th>\n",
       "      <td>1AD07C7A1E4D80B608DD7A650766CCF0</td>\n",
       "      <td>0</td>\n",
       "      <td>1961</td>\n",
       "    </tr>\n",
       "    <tr>\n",
       "      <th>1</th>\n",
       "      <td>7B10786D64F27D7732503D915A38DE6F</td>\n",
       "      <td>0</td>\n",
       "      <td>1945</td>\n",
       "    </tr>\n",
       "    <tr>\n",
       "      <th>2</th>\n",
       "      <td>83C018729869BB1BAB8819021D8E048E</td>\n",
       "      <td>1</td>\n",
       "      <td>1973</td>\n",
       "    </tr>\n",
       "    <tr>\n",
       "      <th>3</th>\n",
       "      <td>74F422BB575BF224F676EE88DD77301F</td>\n",
       "      <td>0</td>\n",
       "      <td>2000</td>\n",
       "    </tr>\n",
       "    <tr>\n",
       "      <th>4</th>\n",
       "      <td>3EDBAA8DBC42EE7F1CBBE2482B8CE42D</td>\n",
       "      <td>0</td>\n",
       "      <td>1972</td>\n",
       "    </tr>\n",
       "  </tbody>\n",
       "</table>\n",
       "</div>"
      ],
      "text/plain": [
       "                        ID_PACIENTE  IC_SEXO AA_NASCIMENTO\n",
       "0  1AD07C7A1E4D80B608DD7A650766CCF0        0          1961\n",
       "1  7B10786D64F27D7732503D915A38DE6F        0          1945\n",
       "2  83C018729869BB1BAB8819021D8E048E        1          1973\n",
       "3  74F422BB575BF224F676EE88DD77301F        0          2000\n",
       "4  3EDBAA8DBC42EE7F1CBBE2482B8CE42D        0          1972"
      ]
     },
     "execution_count": 87,
     "metadata": {},
     "output_type": "execute_result"
    }
   ],
   "source": [
    "pacientes.head()"
   ]
  },
  {
   "cell_type": "markdown",
   "metadata": {},
   "source": [
    "Agora, para tornar os dados mais compreensívos antes de exportar para um novo csv, filtrarei o conteudo da data de nascimento para a idade do paciente, ou seja, para o valor `ano_atual - ano de nascimento`"
   ]
  },
  {
   "cell_type": "code",
   "execution_count": 88,
   "metadata": {},
   "outputs": [
    {
     "data": {
      "text/html": [
       "<div>\n",
       "<style scoped>\n",
       "    .dataframe tbody tr th:only-of-type {\n",
       "        vertical-align: middle;\n",
       "    }\n",
       "\n",
       "    .dataframe tbody tr th {\n",
       "        vertical-align: top;\n",
       "    }\n",
       "\n",
       "    .dataframe thead th {\n",
       "        text-align: right;\n",
       "    }\n",
       "</style>\n",
       "<table border=\"1\" class=\"dataframe\">\n",
       "  <thead>\n",
       "    <tr style=\"text-align: right;\">\n",
       "      <th></th>\n",
       "      <th>ID_PACIENTE</th>\n",
       "      <th>IC_SEXO</th>\n",
       "      <th>IDADE</th>\n",
       "    </tr>\n",
       "  </thead>\n",
       "  <tbody>\n",
       "    <tr>\n",
       "      <th>0</th>\n",
       "      <td>1AD07C7A1E4D80B608DD7A650766CCF0</td>\n",
       "      <td>0</td>\n",
       "      <td>59</td>\n",
       "    </tr>\n",
       "    <tr>\n",
       "      <th>1</th>\n",
       "      <td>7B10786D64F27D7732503D915A38DE6F</td>\n",
       "      <td>0</td>\n",
       "      <td>75</td>\n",
       "    </tr>\n",
       "    <tr>\n",
       "      <th>2</th>\n",
       "      <td>83C018729869BB1BAB8819021D8E048E</td>\n",
       "      <td>1</td>\n",
       "      <td>47</td>\n",
       "    </tr>\n",
       "    <tr>\n",
       "      <th>3</th>\n",
       "      <td>74F422BB575BF224F676EE88DD77301F</td>\n",
       "      <td>0</td>\n",
       "      <td>20</td>\n",
       "    </tr>\n",
       "    <tr>\n",
       "      <th>4</th>\n",
       "      <td>3EDBAA8DBC42EE7F1CBBE2482B8CE42D</td>\n",
       "      <td>0</td>\n",
       "      <td>48</td>\n",
       "    </tr>\n",
       "  </tbody>\n",
       "</table>\n",
       "</div>"
      ],
      "text/plain": [
       "                        ID_PACIENTE  IC_SEXO  IDADE\n",
       "0  1AD07C7A1E4D80B608DD7A650766CCF0        0     59\n",
       "1  7B10786D64F27D7732503D915A38DE6F        0     75\n",
       "2  83C018729869BB1BAB8819021D8E048E        1     47\n",
       "3  74F422BB575BF224F676EE88DD77301F        0     20\n",
       "4  3EDBAA8DBC42EE7F1CBBE2482B8CE42D        0     48"
      ]
     },
     "execution_count": 88,
     "metadata": {},
     "output_type": "execute_result"
    }
   ],
   "source": [
    "def idade(DOB):\n",
    "    return pd.Timestamp('now').year - int(DOB)\n",
    "pacientes['IDADE'] = pacientes['AA_NASCIMENTO'].apply(idade)\n",
    "pacientes = pacientes.drop(\"AA_NASCIMENTO\", axis=1)\n",
    "pacientes.head()"
   ]
  },
  {
   "cell_type": "markdown",
   "metadata": {},
   "source": [
    "Exportando para um novo .csv:"
   ]
  },
  {
   "cell_type": "code",
   "execution_count": 89,
   "metadata": {},
   "outputs": [],
   "source": [
    "pacientes.to_csv('./dados/Fpacientes_processado', header = True)"
   ]
  },
  {
   "cell_type": "code",
   "execution_count": 90,
   "metadata": {},
   "outputs": [
    {
     "data": {
      "text/plain": [
       "(128403, 3)"
      ]
     },
     "execution_count": 90,
     "metadata": {},
     "output_type": "execute_result"
    }
   ],
   "source": [
    "pacientes.shape"
   ]
  }
 ],
 "metadata": {
  "kernelspec": {
   "display_name": "Python 3",
   "language": "python",
   "name": "python3"
  },
  "language_info": {
   "codemirror_mode": {
    "name": "ipython",
    "version": 3
   },
   "file_extension": ".py",
   "mimetype": "text/x-python",
   "name": "python",
   "nbconvert_exporter": "python",
   "pygments_lexer": "ipython3",
   "version": "3.7.2"
  }
 },
 "nbformat": 4,
 "nbformat_minor": 2
}
